{
 "cells": [
  {
   "cell_type": "code",
   "execution_count": 1,
   "metadata": {
    "collapsed": false
   },
   "outputs": [
    {
     "ename": "DatasetNotFound",
     "evalue": "Dataset not found. Check Quandl code: YAHOO/INDEX_GCSP for errors",
     "output_type": "error",
     "traceback": [
      "\u001b[0;31m---------------------------------------------------------------------------\u001b[0m",
      "\u001b[0;31mDatasetNotFound\u001b[0m                           Traceback (most recent call last)",
      "\u001b[0;32m<ipython-input-1-10e40f3455f0>\u001b[0m in \u001b[0;36m<module>\u001b[0;34m()\u001b[0m\n\u001b[1;32m      8\u001b[0m \u001b[0;34m\u001b[0m\u001b[0m\n\u001b[1;32m      9\u001b[0m \u001b[0mtestAsset\u001b[0m \u001b[0;34m=\u001b[0m \u001b[0mQuandl\u001b[0m\u001b[0;34m.\u001b[0m\u001b[0mget\u001b[0m\u001b[0;34m(\u001b[0m\u001b[0;34m\"YAHOO/GOOGL\"\u001b[0m\u001b[0;34m,\u001b[0m \u001b[0mreturns\u001b[0m\u001b[0;34m=\u001b[0m\u001b[0;34m\"pandas\"\u001b[0m\u001b[0;34m,\u001b[0m \u001b[0mauthtoken\u001b[0m\u001b[0;34m=\u001b[0m\u001b[0mauthToken\u001b[0m\u001b[0;34m)\u001b[0m\u001b[0;34m\u001b[0m\u001b[0m\n\u001b[0;32m---> 10\u001b[0;31m \u001b[0mtestBench\u001b[0m \u001b[0;34m=\u001b[0m \u001b[0mQuandl\u001b[0m\u001b[0;34m.\u001b[0m\u001b[0mget\u001b[0m\u001b[0;34m(\u001b[0m\u001b[0;34m\"YAHOO/INDEX_GCSP\"\u001b[0m\u001b[0;34m,\u001b[0m \u001b[0mreturns\u001b[0m\u001b[0;34m=\u001b[0m\u001b[0;34m\"pandas\"\u001b[0m\u001b[0;34m,\u001b[0m \u001b[0mauthtoken\u001b[0m\u001b[0;34m=\u001b[0m\u001b[0mauthToken\u001b[0m\u001b[0;34m)\u001b[0m\u001b[0;34m\u001b[0m\u001b[0m\n\u001b[0m\u001b[1;32m     11\u001b[0m \u001b[0;34m\u001b[0m\u001b[0m\n\u001b[1;32m     12\u001b[0m \u001b[0mtestAsset\u001b[0m \u001b[0;34m=\u001b[0m \u001b[0mtestAsset\u001b[0m\u001b[0;34m[\u001b[0m\u001b[0;34m\"Adjusted Close\"\u001b[0m\u001b[0;34m]\u001b[0m\u001b[0;34m\u001b[0m\u001b[0m\n",
      "\u001b[0;32m/Users/jonas/anaconda/lib/python2.7/site-packages/Quandl/Quandl.pyc\u001b[0m in \u001b[0;36mget\u001b[0;34m(dataset, **kwargs)\u001b[0m\n\u001b[1;32m    130\u001b[0m         \u001b[0;32melif\u001b[0m \u001b[0mstr\u001b[0m\u001b[0;34m(\u001b[0m\u001b[0me\u001b[0m\u001b[0;34m)\u001b[0m \u001b[0;34m==\u001b[0m \u001b[0;34m'HTTP Error 404: Not Found'\u001b[0m\u001b[0;34m:\u001b[0m\u001b[0;34m\u001b[0m\u001b[0m\n\u001b[1;32m    131\u001b[0m             \u001b[0merror\u001b[0m \u001b[0;34m=\u001b[0m \u001b[0;34m\"Dataset not found. Check Quandl code: {} for errors\"\u001b[0m\u001b[0;34m.\u001b[0m\u001b[0mformat\u001b[0m\u001b[0;34m(\u001b[0m\u001b[0mdataset\u001b[0m\u001b[0;34m)\u001b[0m\u001b[0;34m\u001b[0m\u001b[0m\n\u001b[0;32m--> 132\u001b[0;31m             \u001b[0;32mraise\u001b[0m \u001b[0mDatasetNotFound\u001b[0m\u001b[0;34m(\u001b[0m\u001b[0merror\u001b[0m\u001b[0;34m)\u001b[0m\u001b[0;34m\u001b[0m\u001b[0m\n\u001b[0m\u001b[1;32m    133\u001b[0m \u001b[0;34m\u001b[0m\u001b[0m\n\u001b[1;32m    134\u001b[0m         \u001b[0;31m#Catch all\u001b[0m\u001b[0;34m\u001b[0m\u001b[0;34m\u001b[0m\u001b[0m\n",
      "\u001b[0;31mDatasetNotFound\u001b[0m: Dataset not found. Check Quandl code: YAHOO/INDEX_GCSP for errors"
     ]
    }
   ],
   "source": [
    "import numpy as np\n",
    "from datetime import datetime\n",
    "import Quandl\n",
    "import pandas as pd\n",
    "\n",
    "authToken = \"fiJDS_QdhvzhjYQ5m8CV\"\n",
    "assetSuffix = \"_asset\"\n",
    "\n",
    "testAsset = Quandl.get(\"YAHOO/GOOGL\", returns=\"pandas\", authtoken=authToken)\n",
    "testBench = Quandl.get(\"YAHOO/INDEX_GCSP\", returns=\"pandas\", authtoken=authToken)\n",
    "\n",
    "testAsset = testAsset[\"Adjusted Close\"]\n",
    "testBench = testBench[\"Adjusted Close\"]"
   ]
  },
  {
   "cell_type": "code",
   "execution_count": 2,
   "metadata": {
    "collapsed": false
   },
   "outputs": [
    {
     "ename": "SyntaxError",
     "evalue": "invalid syntax (<ipython-input-2-b5b8ea32037d>, line 11)",
     "output_type": "error",
     "traceback": [
      "\u001b[0;36m  File \u001b[0;32m\"<ipython-input-2-b5b8ea32037d>\"\u001b[0;36m, line \u001b[0;32m11\u001b[0m\n\u001b[0;31m    for i in range(1,asset.size[0])\u001b[0m\n\u001b[0m                                   ^\u001b[0m\n\u001b[0;31mSyntaxError\u001b[0m\u001b[0;31m:\u001b[0m invalid syntax\n"
     ]
    }
   ],
   "source": [
    "def calcAlphaBeta(asset, bench, start=None, end=None):\n",
    "    if end is None:\n",
    "        end = datetime.today()\n",
    "    if start is None:\n",
    "        start = datetime.today()\n",
    "        start = start.replace(year=start.year-1)\n",
    "\n",
    "    #this is so as to have the same indexing for the rdiff arrays.\n",
    "    rDiffA = asset\n",
    "    rDiffB = bench\n",
    "    for i in range(1,asset.shape[0])\n",
    "        rDiffA[i] =  (asset[i]-asset[i-1]) / asset[i-1]\n",
    "    for i in range(1,bench.shape[0])\n",
    "        rDiffB[i] = (bench[i]-bench[i-1]) / bench[i-1]\n",
    "\n",
    "    #get rid of the first entry for which we cannot calculate rdiff\n",
    "    rDiffA = rDiff.ix[1:-1]\n",
    "    rDiffB = rDiff.ix[1:-1]\n",
    "\n",
    "    #only look at relevant time frame\n",
    "    rDiffA_dt = rDiffA.ix[start:end]\n",
    "    rDiffB_dt = rDiffB.ix[start:end]\n",
    "\n",
    "    #calculate alpha as the average % change per day over\n",
    "    #a period specified by a user or 1 year (default)\n",
    "\n",
    "    r_a = np.mean(rDiffA_dt)*100*rDiffA_dt.shape[0]\n",
    "    r_b = np.mean(rDiffB_dt)*100*rDiffB_dt.shape[0]\n",
    "\n",
    "    comb = rDiffA_dt.join(rDiffB_dt,how=\"inner\", lsuffix = assetSuffix)\n",
    "    #trunc = comb.ix[start:end]\n",
    "    (alpha, beta) = (calcAlphaBetaInner(trunc[assetCol+assetSuffix], trunc[benchCol], r_a, r_b))\n",
    "    return(alpha, beta)\n",
    "\n",
    "\n",
    "def calcAlphaBetaInner(assetData, benchData, r_a, r_b):\n",
    "    from IPython import embed\n",
    "    embed()\n",
    "    c = np.cov(np.array([assetData,benchData]))\n",
    "    print(np.mean(assetData)*assetData.shape[0])\n",
    "    beta = c[0][1] / c[1][1] #np.var(benchData)\n",
    "    alpha = r_a - (beta * r_b)\n",
    "    print(alpha, beta)\n",
    "    return(alpha, beta)\n"
   ]
  },
  {
   "cell_type": "code",
   "execution_count": null,
   "metadata": {
    "collapsed": true
   },
   "outputs": [],
   "source": []
  }
 ],
 "metadata": {
  "kernelspec": {
   "display_name": "Python 2",
   "language": "python",
   "name": "python2"
  },
  "language_info": {
   "codemirror_mode": {
    "name": "ipython",
    "version": 2
   },
   "file_extension": ".py",
   "mimetype": "text/x-python",
   "name": "python",
   "nbconvert_exporter": "python",
   "pygments_lexer": "ipython2",
   "version": "2.7.9"
  }
 },
 "nbformat": 4,
 "nbformat_minor": 0
}
