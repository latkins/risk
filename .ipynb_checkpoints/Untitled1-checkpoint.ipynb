{
 "cells": [
  {
   "cell_type": "code",
   "execution_count": null,
   "metadata": {
    "collapsed": false
   },
   "outputs": [],
   "source": [
    "import numpy as np\n",
    "from datetime import datetime\n",
    "import Quandl\n",
    "import pandas as pd\n",
    "import sqlite3\n",
    "from mkTables import getStocks \n",
    "\n",
    "authToken = \"fiJDS_QdhvzhjYQ5m8CV\"\n",
    "assetSuffix = \"_asset\"\n",
    "conn = sqlite3.connect('stocks.sql', detect_types=sqlite3.PARSE_DECLTYPES)\n",
    "\n",
    "testAsset = getStocks(conn, \"WIKI/ACT\")\n",
    "testBench = getStocks(conn, \"WIKI/AEE\")\n",
    "\n",
    "testAsset = testAsset[\"adj_close\"]\n",
    "testBench = testBench[\"adj_close\"]\n",
    "\n",
    "\n",
    "\n",
    "\n"
   ]
  },
  {
   "cell_type": "code",
   "execution_count": null,
   "metadata": {
    "collapsed": false
   },
   "outputs": [],
   "source": [
    "#asset and bench are expected to be pandas arrays with datetime index\n",
    "#and one column that contains the stock price per day\n",
    "def calcAlphaBeta(asset, bench, start=None, end=None):\n",
    "    if end is None:\n",
    "        end = datetime.today()\n",
    "        print(end)\n",
    "    if start is None:\n",
    "        start = datetime.today()\n",
    "        start = start.replace(year=start.year-1)\n",
    "        print(start)\n",
    "\n",
    "    #this is so as to have the same indexing for the rdiff arrays.\n",
    "    print(asset)\n",
    "    rDiffA = asset.copy(deep=True)\n",
    "    rDiffB = bench.copy(deep=True)\n",
    "    print(rDiffA)\n",
    "    for i in range(1,asset.shape[0]):\n",
    "        rDiffA[i] = (asset[(i)]-asset[i-1]) / asset[i-1]\n",
    "    for i in range(1,bench.shape[0]):\n",
    "        rDiffB[i] = (bench[(i)]-bench[i-1]) / bench[i-1]\n",
    "    \n",
    "    print(rDiffB)\n",
    "    #get rid of the first entry for which we cannot calculate rdiff\n",
    "    #!!!redundant as we use start end dates !!!\n",
    "    #rDiffA = rDiffA.ix[1:-1]\n",
    "    #rDiffB = rDiffB.ix[1:-1]\n",
    "\n",
    "    #only look at relevant time frame\n",
    "    rDiffA = rDiffA.ix[start:end]\n",
    "    rDiffB = rDiffB.ix[start:end]\n",
    "    print(\"here\")\n",
    "    #calculate alpha as the average % change per day over\n",
    "    #a period specified by a user or 1 year (default)\n",
    "\n",
    "    r_a = rDiffA.mean()*100*rDiffA.shape[0]\n",
    "    r_b = rDiffB.mean()*100*rDiffB.shape[0]\n",
    "    #r_a = np.mean(rDiffA)*100*rDiffA.shape[0]\n",
    "    #r_b = np.mean(rDiffB)*100*rDiffB.shape[0]\n",
    "    \n",
    "    print(\"after ra\")\n",
    "    #comb = (pd.DataFrame(rDiffA)).join(pd.DataFrame(rDiffB),how=\"inner\", lsuffix = assetSuffix)\n",
    "    #trunc = comb.ix[start:end]\n",
    "    trunc = [rDiffA, rDiffB]\n",
    "    #(alpha, beta) = (calcAlphaBetaInner(trunc[\"adj_close\"+assetSuffix], trunc[\"adj_close\"], r_a, r_b))\n",
    "    (alpha, beta) = calcAlphaBetaInner(rDiffA,rDiffB,r_a,r_b)\n",
    "    return(alpha, beta)\n",
    "\n",
    "\n",
    "def calcAlphaBetaInner(assetData, benchData, r_a, r_b):\n",
    "    print(assetData)\n",
    "    return(1,1111)\n",
    "    #c = np.cov(np.array([assetData,benchData]))\n",
    "    #print(np.mean(assetData)*assetData.shape[0])\n",
    "    #beta = c[0][1] / c[1][1] #np.var(benchData)\n",
    "    #alpha = r_a - (beta * r_b)\n",
    "    #print(alpha, beta)\n",
    "    #return(alpha, beta)\n"
   ]
  },
  {
   "cell_type": "code",
   "execution_count": null,
   "metadata": {
    "collapsed": true
   },
   "outputs": [],
   "source": []
  }
 ],
 "metadata": {
  "kernelspec": {
   "display_name": "Python 2",
   "language": "python",
   "name": "python2"
  },
  "language_info": {
   "codemirror_mode": {
    "name": "ipython",
    "version": 2
   },
   "file_extension": ".py",
   "mimetype": "text/x-python",
   "name": "python",
   "nbconvert_exporter": "python",
   "pygments_lexer": "ipython2",
   "version": "2.7.9"
  }
 },
 "nbformat": 4,
 "nbformat_minor": 0
}
